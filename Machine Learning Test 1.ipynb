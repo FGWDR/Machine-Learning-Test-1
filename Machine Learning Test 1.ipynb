{
 "cells": [
  {
   "cell_type": "code",
   "execution_count": 37,
   "id": "7599cd56",
   "metadata": {},
   "outputs": [
    {
     "name": "stdout",
     "output_type": "stream",
     "text": [
      "Found 3842 images belonging to 2 classes.\n",
      "Found 1681 images belonging to 2 classes.\n"
     ]
    }
   ],
   "source": [
    "import os\n",
    "from tensorflow.keras.preprocessing.image import ImageDataGenerator\n",
    "\n",
    "baseDir = \"D://data/Image\"\n",
    "trainingDir = os.path.join(baseDir, \"Training\")\n",
    "testDir = os.path.join(baseDir, \"Test\")\n",
    "\n",
    "train_data_gen = ImageDataGenerator(rescale = 1. / 255)\n",
    "test_data_gen = ImageDataGenerator(rescale = 1. / 255)\n",
    "\n",
    "train_generator = train_data_gen.flow_from_directory(trainingDir, target_size = (64, 64), batch_size = 20, class_mode = \"binary\")\n",
    "test_generator = train_data_gen.flow_from_directory(testDir, target_size = (64, 64), batch_size = 20, class_mode = \"binary\")"
   ]
  },
  {
   "cell_type": "code",
   "execution_count": 38,
   "id": "b5307da7",
   "metadata": {
    "scrolled": false
   },
   "outputs": [
    {
     "name": "stdout",
     "output_type": "stream",
     "text": [
      "Model: \"sequential_17\"\n",
      "_________________________________________________________________\n",
      " Layer (type)                Output Shape              Param #   \n",
      "=================================================================\n",
      " conv2d_46 (Conv2D)          (None, 64, 64, 32)        896       \n",
      "                                                                 \n",
      " max_pooling2d_44 (MaxPoolin  (None, 21, 21, 32)       0         \n",
      " g2D)                                                            \n",
      "                                                                 \n",
      " conv2d_47 (Conv2D)          (None, 21, 21, 64)        18496     \n",
      "                                                                 \n",
      " max_pooling2d_45 (MaxPoolin  (None, 7, 7, 64)         0         \n",
      " g2D)                                                            \n",
      "                                                                 \n",
      " conv2d_48 (Conv2D)          (None, 7, 7, 128)         73856     \n",
      "                                                                 \n",
      " max_pooling2d_46 (MaxPoolin  (None, 2, 2, 128)        0         \n",
      " g2D)                                                            \n",
      "                                                                 \n",
      " flatten_14 (Flatten)        (None, 512)               0         \n",
      "                                                                 \n",
      " dense_29 (Dense)            (None, 128)               65664     \n",
      "                                                                 \n",
      " dropout_15 (Dropout)        (None, 128)               0         \n",
      "                                                                 \n",
      " dense_30 (Dense)            (None, 1)                 129       \n",
      "                                                                 \n",
      "=================================================================\n",
      "Total params: 159,041\n",
      "Trainable params: 159,041\n",
      "Non-trainable params: 0\n",
      "_________________________________________________________________\n"
     ]
    }
   ],
   "source": [
    "from tensorflow.keras.models import Sequential\n",
    "from tensorflow.keras.layers import Dense, Dropout, Flatten\n",
    "from tensorflow.keras.layers import Conv2D, MaxPool2D\n",
    "\n",
    "model = Sequential()\n",
    "\n",
    "model.add(Conv2D(input_shape = (64, 64, 3), filters = 32, kernel_size = (3, 3), padding = \"same\", activation = \"relu\"))\n",
    "model.add(MaxPool2D(pool_size = (3, 3)))\n",
    "model.add(Conv2D(filters = 64, kernel_size = (3, 3), padding = \"same\", activation = \"relu\"))\n",
    "model.add(MaxPool2D(pool_size = (3, 3)))\n",
    "model.add(Conv2D(filters = 128, kernel_size = (3, 3), padding = \"same\", activation = \"relu\"))\n",
    "model.add(MaxPool2D(pool_size = (3, 3)))\n",
    "model.add(Flatten())\n",
    "model.add(Dense(units = 128, activation = 'relu'))\n",
    "model.add(Dropout(0.5))\n",
    "model.add(Dense(units = 1, activation = 'softmax'))\n",
    "\n",
    "model.compile(loss = \"binary_crossentropy\", optimizer = \"rmsprop\", metrics = [\"acc\"])\n",
    "\n",
    "model.build()\n",
    "model.summary()"
   ]
  },
  {
   "cell_type": "code",
   "execution_count": 39,
   "id": "102d3d59",
   "metadata": {},
   "outputs": [
    {
     "name": "stdout",
     "output_type": "stream",
     "text": [
      "Epoch 1/10\n",
      "193/193 [==============================] - 575s 3s/step - loss: 0.4658 - acc: 0.6057 - val_loss: 0.6306 - val_acc: 0.3623\n",
      "Epoch 2/10\n",
      "193/193 [==============================] - 608s 3s/step - loss: 0.2652 - acc: 0.6057 - val_loss: 1.0130 - val_acc: 0.3623\n",
      "Epoch 3/10\n",
      "193/193 [==============================] - 785s 4s/step - loss: 0.1707 - acc: 0.6057 - val_loss: 1.0067 - val_acc: 0.3623\n",
      "Epoch 4/10\n",
      "193/193 [==============================] - 625s 3s/step - loss: 0.1102 - acc: 0.6057 - val_loss: 1.2126 - val_acc: 0.3623\n",
      "Epoch 5/10\n",
      "193/193 [==============================] - 658s 3s/step - loss: 0.0824 - acc: 0.6057 - val_loss: 1.9002 - val_acc: 0.3623\n",
      "Epoch 6/10\n",
      "193/193 [==============================] - 592s 3s/step - loss: 0.0759 - acc: 0.6057 - val_loss: 1.4550 - val_acc: 0.3623\n",
      "Epoch 7/10\n",
      "193/193 [==============================] - 856s 4s/step - loss: 0.0539 - acc: 0.6057 - val_loss: 1.7343 - val_acc: 0.3623\n",
      "Epoch 8/10\n",
      "193/193 [==============================] - 815s 4s/step - loss: 0.0478 - acc: 0.6057 - val_loss: 1.7279 - val_acc: 0.3623\n",
      "Epoch 9/10\n",
      "193/193 [==============================] - 830s 4s/step - loss: 0.0269 - acc: 0.6057 - val_loss: 2.2173 - val_acc: 0.3623\n",
      "Epoch 10/10\n",
      "193/193 [==============================] - 790s 4s/step - loss: 0.0309 - acc: 0.6057 - val_loss: 2.1764 - val_acc: 0.3623\n"
     ]
    }
   ],
   "source": [
    "history = model.fit(train_generator, validation_data = test_generator, epochs = 10)"
   ]
  },
  {
   "cell_type": "code",
   "execution_count": null,
   "id": "3a9c3038",
   "metadata": {},
   "outputs": [],
   "source": []
  }
 ],
 "metadata": {
  "kernelspec": {
   "display_name": "Python 3 (ipykernel)",
   "language": "python",
   "name": "python3"
  },
  "language_info": {
   "codemirror_mode": {
    "name": "ipython",
    "version": 3
   },
   "file_extension": ".py",
   "mimetype": "text/x-python",
   "name": "python",
   "nbconvert_exporter": "python",
   "pygments_lexer": "ipython3",
   "version": "3.9.7"
  }
 },
 "nbformat": 4,
 "nbformat_minor": 5
}
